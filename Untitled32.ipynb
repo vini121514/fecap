{
  "nbformat": 4,
  "nbformat_minor": 0,
  "metadata": {
    "colab": {
      "provenance": []
    },
    "kernelspec": {
      "name": "python3",
      "display_name": "Python 3"
    },
    "language_info": {
      "name": "python"
    }
  },
  "cells": [
    {
      "cell_type": "code",
      "execution_count": 1,
      "metadata": {
        "id": "tPTjyCJjW13g"
      },
      "outputs": [],
      "source": [
        "import requests"
      ]
    },
    {
      "cell_type": "code",
      "source": [
        "n = input(\"Escreva o ultimo numero do seu Ra: \")\n",
        "print(n)"
      ],
      "metadata": {
        "colab": {
          "base_uri": "https://localhost:8080/"
        },
        "id": "_kKnTvNrW63e",
        "outputId": "f05fbd49-9ecc-404b-ca38-9a7e059c22b8"
      },
      "execution_count": 2,
      "outputs": [
        {
          "output_type": "stream",
          "name": "stdout",
          "text": [
            "Escreva o ultimo numero do seu Ra: 4\n",
            "4\n"
          ]
        }
      ]
    },
    {
      "cell_type": "code",
      "source": [
        "print(\"1-Fhaz  2-Rhaz  3-Mast  4-Chemcam  5-Mahli  6-Mardi  7-Navcam  8-Pancam  9 e 0-Minites\")\n",
        "Robo = str(input(\"De acordo com o ultimo número do seu RA, qual é o seu robo? \"))\n",
        "Robo = Robo.lower()\n",
        "print(Robo)"
      ],
      "metadata": {
        "colab": {
          "base_uri": "https://localhost:8080/"
        },
        "id": "EB52GRkgW8vV",
        "outputId": "be6150a7-bbf2-497e-ee87-af69e5a2dbac"
      },
      "execution_count": 3,
      "outputs": [
        {
          "output_type": "stream",
          "name": "stdout",
          "text": [
            "1-Fhaz  2-Rhaz  3-Mast  4-Chemcam  5-Mahli  6-Mardi  7-Navcam  8-Pancam  9 e 0-Minites\n",
            "De acordo com o ultimo número do seu RA, qual é o seu robo? 4\n",
            "4\n"
          ]
        }
      ]
    },
    {
      "cell_type": "code",
      "source": [
        "dia = int(input(\"Dia: \"))\n",
        "mes = int(input(\"Mês: \"))\n",
        "ano = int(input(\"Ano: \"))\n",
        "print(ano, mes, dia)\n"
      ],
      "metadata": {
        "colab": {
          "base_uri": "https://localhost:8080/"
        },
        "id": "sS-nfhv5XA72",
        "outputId": "7ef13fda-c939-4e9f-a9fe-6d8963f751d2"
      },
      "execution_count": 4,
      "outputs": [
        {
          "output_type": "stream",
          "name": "stdout",
          "text": [
            "Dia: 20\n",
            "Mês: 01\n",
            "Ano: 2008\n",
            "2008 1 20\n"
          ]
        }
      ]
    },
    {
      "cell_type": "code",
      "source": [
        "resposta = requests.get(f\"https://api.nasa.gov/mars-photos/api/v1/rovers/curiosity/photos?sol=1000&api_key=DEMO_KEY\")\n",
        "print(resposta)\n",
        "print(resposta.json()[\"photos\"][0][\"img_src\"])"
      ],
      "metadata": {
        "colab": {
          "base_uri": "https://localhost:8080/"
        },
        "id": "2tMAeAZ7XFGu",
        "outputId": "7180fcc7-95cf-47d9-cd47-c5b22f936520"
      },
      "execution_count": 6,
      "outputs": [
        {
          "output_type": "stream",
          "name": "stdout",
          "text": [
            "<Response [200]>\n",
            "http://mars.jpl.nasa.gov/msl-raw-images/proj/msl/redops/ods/surface/sol/01000/opgs/edr/fcam/FLB_486265257EDR_F0481570FHAZ00323M_.JPG\n"
          ]
        }
      ]
    }
  ]
}